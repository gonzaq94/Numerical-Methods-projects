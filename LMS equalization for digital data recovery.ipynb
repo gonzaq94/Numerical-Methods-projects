{
 "cells": [
  {
   "cell_type": "markdown",
   "metadata": {},
   "source": [
    "<img\n",
    "src=\"https://www.imt-atlantique.fr/sites/default/files/Images/Ecole/charte-graphique/IMT_Atlantique_logo_RVB_Baseline_400x272.jpg\"\n",
    "WIDTH=200 HEIGHT=200>\n",
    "\n",
    "<CENTER>\n",
    "</br>\n",
    "<p><font size=\"5\"> TAF MCE - 2019</span></p>\n",
    "<p><font size=\"4\">  UE Numerical Methods </font></p>\n",
    "<p></p>\n",
    "<p><font size=\"5\">  Notebook 06: Lab - LMS Algorithm - Statement </font></p>\n",
    "</p></br>\n",
    "</p>\n",
    "</CENTER>\n",
    "\n",
    "\n",
    "--------\n"
   ]
  },
  {
   "cell_type": "markdown",
   "metadata": {},
   "source": [
    "# <span style=\"color:#00B8DE\"> LMS equalization for digital data recovery </span>\n"
   ]
  },
  {
   "cell_type": "markdown",
   "metadata": {},
   "source": [
    "> - 1  - Generate $n_s=10^4$ symbols of a BPSK modulation.\n",
    "> - 2  - Convolve symbols with a filter with impulse response given by vector ${\\bf h} \\propto [1, .8, .3]$ and $\\parallel {\\bf h}\\parallel = 1$. This filter represents the effect of propagation channel on transmitted symbols.\n",
    "> - 3  - Add noise so as to achieve a fixed SNR at the receiver side. Plot the values of the first 20 symbols and that of the first 20 data samples as well as their sign for $SNR=20dB$. What do we note.\n",
    "> - 4  - Check that even in the absence of noise the error probability $P_e$ resulting from decisions based on data thresholding would not be zero. Estimate the value of $P_e$ in the absence of equalization.\n",
    "> - 5  - Implement an LMS filter with impulse response ${\\bf w}$ of length $l_w=10$. The stepsize is set to half the maximum suggested stepsize and $SNR=20dB$.\n",
    "> - 6  - plot the evolution of the distance $\\parallel {\\bf w}_{MSE}-{\\bf w}_{LMS}\\parallel $  between the $MSE$ estimate ${\\bf w}_{MSE}$ of ${\\bf w}$ and successsive LMS estimates $\n",
    "{\\bf w}_{LMS}$.\n",
    "> - 7  - Study the convergence of the filter, depending on the SNR. \n",
    "> - 8  - Train the filter with $n_s=10^4$ symbols. Then generate data for $n_s=10^6$ symbols and $SNR=15dB$. Observe the histogram of data. Whate do you note?\n",
    "> - 9  - deconvolve the sequence. Estimate the error probability $P_e$. Observe the histograms of equalizer output. remarks?\n",
    "> - 10 - Analyze the influence of the different parameters (stepsize, SNR, impulse response ${\\bf h}$, length of the training sequence, ...) on the behavior of the algorithm. "
   ]
  },
  {
   "cell_type": "markdown",
   "metadata": {},
   "source": [
    "## <span style=\"color:#00B8DE\"> Data generation </span>"
   ]
  },
  {
   "cell_type": "code",
   "execution_count": 3,
   "metadata": {},
   "outputs": [
    {
     "data": {
      "text/plain": [
       "Plots.PyPlotBackend()"
      ]
     },
     "execution_count": 3,
     "metadata": {},
     "output_type": "execute_result"
    }
   ],
   "source": [
    "using LinearAlgebra: norm, tr\n",
    "using Plots\n",
    "pyplot()"
   ]
  },
  {
   "cell_type": "code",
   "execution_count": 46,
   "metadata": {},
   "outputs": [
    {
     "name": "stdout",
     "output_type": "stream",
     "text": [
      "\u001b[32m\u001b[1m Resolving\u001b[22m\u001b[39m package versions...\n",
      "\u001b[32m\u001b[1m Installed\u001b[22m\u001b[39m Polynomials ─ v0.6.0\n",
      "\u001b[32m\u001b[1m Installed\u001b[22m\u001b[39m DSP ───────── v0.6.1\n",
      "\u001b[32m\u001b[1m  Updating\u001b[22m\u001b[39m `~/.julia/environments/v1.2/Project.toml`\n",
      " \u001b[90m [717857b8]\u001b[39m\u001b[92m + DSP v0.6.1\u001b[39m\n",
      "\u001b[32m\u001b[1m  Updating\u001b[22m\u001b[39m `~/.julia/environments/v1.2/Manifest.toml`\n",
      " \u001b[90m [717857b8]\u001b[39m\u001b[92m + DSP v0.6.1\u001b[39m\n",
      " \u001b[90m [f27b6e38]\u001b[39m\u001b[92m + Polynomials v0.6.0\u001b[39m\n"
     ]
    }
   ],
   "source": [
    "using Pkg\n",
    "Pkg.add(\"DSP\")"
   ]
  },
  {
   "cell_type": "code",
   "execution_count": 4,
   "metadata": {},
   "outputs": [
    {
     "name": "stdout",
     "output_type": "stream",
     "text": [
      "[0.7602859212697054, 0.6082287370157644, 0.22808577638091163]"
     ]
    }
   ],
   "source": [
    "using Random\n",
    "\n",
    "n = 10000\n",
    "h = [1,0.8,0.3]\n",
    "h = h/norm(h)\n",
    "print(h)\n",
    "\n",
    "signal = sign.(randn(n));"
   ]
  },
  {
   "cell_type": "code",
   "execution_count": 48,
   "metadata": {},
   "outputs": [
    {
     "data": {
      "text/plain": [
       "10000-element Array{Float64,1}:\n",
       "  0.6938310715949592 \n",
       "  1.4398562420660024 \n",
       "  1.6004860383960917 \n",
       "  1.5917004091723272 \n",
       "  1.6496185184785654 \n",
       "  1.832504907002945  \n",
       "  0.2136609607261961 \n",
       "  0.2886646397325178 \n",
       "  1.204910301903727  \n",
       "  1.526564803795328  \n",
       "  0.07245030781532863\n",
       " -1.2867724743115476 \n",
       "  0.05479444563406499\n",
       "  ⋮                  \n",
       "  1.5859351618071507 \n",
       "  1.6850326718191537 \n",
       "  1.5908937505901364 \n",
       "  1.4674555020678164 \n",
       "  1.599213004844552  \n",
       "  1.4834944892080628 \n",
       "  1.7616256816955203 \n",
       "  1.4761636420641793 \n",
       "  1.538429625615437  \n",
       "  0.1047129264838978 \n",
       " -1.2352775722112885 \n",
       " -0.17122728922459007"
      ]
     },
     "execution_count": 48,
     "metadata": {},
     "output_type": "execute_result"
    }
   ],
   "source": [
    "using DSP\n",
    "SNR = 20\n",
    "σ_n = 10^(-SNR/20)\n",
    "\n",
    "y = conv(signal,h)[1:n]\n",
    "\n",
    "y_n = y + σ_n*randn(n)"
   ]
  },
  {
   "cell_type": "code",
   "execution_count": 50,
   "metadata": {},
   "outputs": [
    {
     "data": {
      "image/png": "[encoded data removed]"
     },
     "execution_count": 50,
     "metadata": {},
     "output_type": "execute_result"
    }
   ],
   "source": [
    "# Figures\n",
    "scatter(signal[1:20],label=\"Symbols\")\n",
    "scatter!(y_n[1:20],label=\"Data after passing the channel\")"
   ]
  },
  {
   "cell_type": "code",
   "execution_count": 59,
   "metadata": {},
   "outputs": [
    {
     "name": "stdout",
     "output_type": "stream",
     "text": [
      "Pe without equalization = 0.2506\n"
     ]
    }
   ],
   "source": [
    "#4\n",
    "println(\"Pe without equalization = $(sum((abs.(y-signal)).>1)/n)\")"
   ]
  },
  {
   "cell_type": "markdown",
   "metadata": {},
   "source": [
    "## <span style=\"color:#00B8DE\"> LMS filter </span>"
   ]
  },
  {
   "cell_type": "code",
   "execution_count": 11,
   "metadata": {},
   "outputs": [
    {
     "name": "stdout",
     "output_type": "stream",
     "text": [
      "\u001b[32m\u001b[1m  Updating\u001b[22m\u001b[39m registry at `~/.julia/registries/General`\n",
      "\u001b[32m\u001b[1m  Updating\u001b[22m\u001b[39m git-repo `https://github.com/JuliaRegistries/General.git`\n",
      "\u001b[2K\u001b[?25h[1mFetching:\u001b[22m\u001b[39m [========================================>]  100.0 %.0 %\u001b[36m\u001b[1mFetching:\u001b[22m\u001b[39m [==================================>      ]  83.3 %\u001b[32m\u001b[1m Resolving\u001b[22m\u001b[39m package versions...\n",
      "\u001b[32m\u001b[1m Installed\u001b[22m\u001b[39m NaNMath ──────── v0.3.3\n",
      "\u001b[32m\u001b[1m Installed\u001b[22m\u001b[39m Calculus ─────── v0.5.1\n",
      "\u001b[32m\u001b[1m Installed\u001b[22m\u001b[39m Parsers ──────── v0.3.10\n",
      "\u001b[32m\u001b[1m Installed\u001b[22m\u001b[39m IterTools ────── v1.3.0\n",
      "\u001b[32m\u001b[1m Installed\u001b[22m\u001b[39m DataStructures ─ v0.17.6\n",
      "\u001b[32m\u001b[1m Installed\u001b[22m\u001b[39m GR ───────────── v0.44.0\n",
      "\u001b[32m\u001b[1m  Updating\u001b[22m\u001b[39m `~/.julia/environments/v1.2/Project.toml`\n",
      " \u001b[90m [2913bbd2]\u001b[39m\u001b[92m + StatsBase v0.32.0\u001b[39m\n",
      "\u001b[32m\u001b[1m  Updating\u001b[22m\u001b[39m `~/.julia/environments/v1.2/Manifest.toml`\n",
      " \u001b[90m [49dc2e85]\u001b[39m\u001b[93m ↑ Calculus v0.5.0 ⇒ v0.5.1\u001b[39m\n",
      " \u001b[90m [864edb3b]\u001b[39m\u001b[93m ↑ DataStructures v0.17.5 ⇒ v0.17.6\u001b[39m\n",
      " \u001b[90m [28b8d3ca]\u001b[39m\u001b[93m ↑ GR v0.42.0 ⇒ v0.44.0\u001b[39m\n",
      " \u001b[90m [c8e1da08]\u001b[39m\u001b[93m ↑ IterTools v1.2.0 ⇒ v1.3.0\u001b[39m\n",
      " \u001b[90m [77ba4419]\u001b[39m\u001b[93m ↑ NaNMath v0.3.2 ⇒ v0.3.3\u001b[39m\n",
      " \u001b[90m [69de0a69]\u001b[39m\u001b[93m ↑ Parsers v0.3.8 ⇒ v0.3.10\u001b[39m\n",
      "\u001b[32m\u001b[1m  Building\u001b[22m\u001b[39m GR → `~/.julia/packages/GR/oiZD3/deps/build.log`\n"
     ]
    }
   ],
   "source": [
    "using Pkg\n",
    "Pkg.add(\"StatsBase\")"
   ]
  },
  {
   "cell_type": "code",
   "execution_count": 16,
   "metadata": {},
   "outputs": [
    {
     "name": "stdout",
     "output_type": "stream",
     "text": [
      "\u001b[32m\u001b[1m Resolving\u001b[22m\u001b[39m package versions...\n",
      "\u001b[32m\u001b[1m Installed\u001b[22m\u001b[39m ToeplitzMatrices ─ v0.6.0\n",
      "\u001b[32m\u001b[1m Installed\u001b[22m\u001b[39m AbstractFFTs ───── v0.5.0\n",
      "\u001b[32m\u001b[1m Installed\u001b[22m\u001b[39m FFTW ───────────── v1.1.0\n",
      "\u001b[32m\u001b[1m  Updating\u001b[22m\u001b[39m `~/.julia/environments/v1.2/Project.toml`\n",
      " \u001b[90m [c751599d]\u001b[39m\u001b[92m + ToeplitzMatrices v0.6.0\u001b[39m\n",
      "\u001b[32m\u001b[1m  Updating\u001b[22m\u001b[39m `~/.julia/environments/v1.2/Manifest.toml`\n",
      " \u001b[90m [621f4979]\u001b[39m\u001b[92m + AbstractFFTs v0.5.0\u001b[39m\n",
      " \u001b[90m [7a1cc6ca]\u001b[39m\u001b[92m + FFTW v1.1.0\u001b[39m\n",
      " \u001b[90m [c751599d]\u001b[39m\u001b[92m + ToeplitzMatrices v0.6.0\u001b[39m\n",
      "\u001b[32m\u001b[1m  Building\u001b[22m\u001b[39m FFTW → `~/.julia/packages/FFTW/loJ3F/deps/build.log`\n"
     ]
    }
   ],
   "source": [
    "using Pkg\n",
    "Pkg.add(\"ToeplitzMatrices\")"
   ]
  },
  {
   "cell_type": "code",
   "execution_count": 61,
   "metadata": {},
   "outputs": [],
   "source": [
    "# MSE solution (min||w'.data-symb||)\n",
    "#-----------------------------------\n",
    "using StatsBase\n",
    "using ToeplitzMatrices\n",
    "lw=10\n",
    "lang=zeros(lw)\n",
    "for j=1:lw\n",
    "    lang[j]=j-1\n",
    "end\n",
    "lang=convert(Array{Int64},lang)\n",
    "H=autocov(y_n,lang)\n",
    "V=crosscov(y_n,signal,lang)\n",
    "T=convert(Array{Float64,2},Toeplitz(H,H));\n",
    "w_mse=inv(T)*V;"
   ]
  },
  {
   "cell_type": "code",
   "execution_count": 62,
   "metadata": {},
   "outputs": [
    {
     "data": {
      "text/plain": [
       "10-element Array{Float64,1}:\n",
       "  1.2748131772337208   \n",
       " -0.9955319396709683   \n",
       "  0.40819531175918566  \n",
       " -0.031404422759500186 \n",
       " -0.09331025847412962  \n",
       "  0.08201557455585291  \n",
       " -0.03524584608956888  \n",
       "  0.004728747733809805 \n",
       "  0.004198712670253723 \n",
       " -0.0021803039320876932"
      ]
     },
     "execution_count": 62,
     "metadata": {},
     "output_type": "execute_result"
    }
   ],
   "source": [
    "w_mse"
   ]
  },
  {
   "cell_type": "code",
   "execution_count": 88,
   "metadata": {},
   "outputs": [],
   "source": [
    "xp = zeros(lw-1+n)\n",
    "xp[lw:end]=y_n\n",
    "e=zeros(n)\n",
    "w_lms=zeros(lw)\n",
    "\n",
    "for i=1:n\n",
    "    data=zeros(lw)\n",
    "    data=reverse(xp[i:i-1+lw]);\n",
    "    \n",
    "    mu = 1/tr(T)\n",
    "    w_lms = w_lms -mu.*(data*(w_lms'*data-signal[i]))\n",
    "    e[i]=norm(w_lms-w_mse)\n",
    "end"
   ]
  },
  {
   "cell_type": "code",
   "execution_count": 89,
   "metadata": {},
   "outputs": [
    {
     "data": {
      "image/png": "[encoded data removed]"
     },
     "execution_count": 89,
     "metadata": {},
     "output_type": "execute_result"
    }
   ],
   "source": [
    "plot(e)"
   ]
  },
  {
   "cell_type": "code",
   "execution_count": 84,
   "metadata": {},
   "outputs": [
    {
     "data": {
      "text/plain": [
       "10-element Array{Float64,1}:\n",
       "  1.2612261890201608  \n",
       " -0.9138341628058089  \n",
       "  0.253857667449345   \n",
       "  0.22733781610973608 \n",
       " -0.1391197558313843  \n",
       "  0.2582749912039811  \n",
       " -0.010478025889918197\n",
       "  0.09457198116970386 \n",
       "  0.06977012466586888 \n",
       "  0.07234520582413696 "
      ]
     },
     "execution_count": 84,
     "metadata": {},
     "output_type": "execute_result"
    }
   ],
   "source": [
    "w_lms"
   ]
  },
  {
   "cell_type": "code",
   "execution_count": 85,
   "metadata": {},
   "outputs": [
    {
     "data": {
      "text/plain": [
       "10-element Array{Float64,1}:\n",
       "  1.2748131772337208   \n",
       " -0.9955319396709683   \n",
       "  0.40819531175918566  \n",
       " -0.031404422759500186 \n",
       " -0.09331025847412962  \n",
       "  0.08201557455585291  \n",
       " -0.03524584608956888  \n",
       "  0.004728747733809805 \n",
       "  0.004198712670253723 \n",
       " -0.0021803039320876932"
      ]
     },
     "execution_count": 85,
     "metadata": {},
     "output_type": "execute_result"
    }
   ],
   "source": [
    "w_mse"
   ]
  },
  {
   "cell_type": "markdown",
   "metadata": {},
   "source": [
    "## <span style=\"color:#00B8DE\"> Deconvolution </span>"
   ]
  },
  {
   "cell_type": "code",
   "execution_count": 12,
   "metadata": {},
   "outputs": [
    {
     "name": "stdout",
     "output_type": "stream",
     "text": [
      "[0.7602859212697054, 0.6082287370157644, 0.22808577638091163]"
     ]
    },
    {
     "data": {
      "image/png": "[encoded data removed]"
     },
     "execution_count": 12,
     "metadata": {},
     "output_type": "execute_result"
    }
   ],
   "source": [
    "# 8\n",
    "# Equalizer design\n",
    "\n",
    "# Data generation\n",
    "\n",
    "n = 1000000\n",
    "h = [1,0.8,0.3]\n",
    "h = h/norm(h)\n",
    "\n",
    "signal = sign.(randn(n));\n",
    "\n",
    "SNR = 15\n",
    "σ_n = 10^(-SNR/20)\n",
    "\n",
    "y = convolution(signal,h)\n",
    "\n",
    "y_n = y + σ_n*randn(n)\n",
    "\n",
    "# data histogram\n",
    "\n",
    "histogram(y_n)"
   ]
  },
  {
   "cell_type": "code",
   "execution_count": 66,
   "metadata": {},
   "outputs": [
    {
     "name": "stdout",
     "output_type": "stream",
     "text": [
      "Pe with equalization with the MSE coefficients = 0.0\n"
     ]
    }
   ],
   "source": [
    "# deconvolution\n",
    "x_hat = conv(y_n,w_mse)[1:n]\n",
    "println(\"Pe with equalization with the MSE coefficients = $(sum((abs.(x_hat[10:length(x_hat)]-signal[10:length(x_hat)])).>1)/n)\")"
   ]
  },
  {
   "cell_type": "code",
   "execution_count": 67,
   "metadata": {},
   "outputs": [
    {
     "data": {
      "image/png": "[encoded data removed]"
     },
     "execution_count": 67,
     "metadata": {},
     "output_type": "execute_result"
    }
   ],
   "source": [
    "histogram(x_hat)"
   ]
  },
  {
   "cell_type": "code",
   "execution_count": 86,
   "metadata": {},
   "outputs": [
    {
     "name": "stdout",
     "output_type": "stream",
     "text": [
      "Pe with equalization = 0.0066\n"
     ]
    }
   ],
   "source": [
    "# deconvolution\n",
    "x_hat = conv(y_n,w_lms)[1:n]\n",
    "println(\"Pe with equalization = $(sum((abs.(x_hat[10:length(x_hat)]-signal[10:length(x_hat)])).>1)/n)\")"
   ]
  },
  {
   "cell_type": "code",
   "execution_count": 20,
   "metadata": {},
   "outputs": [
    {
     "ename": "LoadError",
     "evalue": "syntax: invalid identifier name \"...\"",
     "output_type": "error",
     "traceback": [
      "syntax: invalid identifier name \"...\"",
      ""
     ]
    }
   ],
   "source": [
    "# Dhistogram of equalizer outputs\n",
    "..."
   ]
  },
  {
   "cell_type": "code",
   "execution_count": 21,
   "metadata": {},
   "outputs": [
    {
     "ename": "LoadError",
     "evalue": "syntax: invalid identifier name \"...\"",
     "output_type": "error",
     "traceback": [
      "syntax: invalid identifier name \"...\"",
      ""
     ]
    }
   ],
   "source": [
    "# decisions\n",
    "...\n",
    "\n",
    "# Performance evaluation\n",
    "..."
   ]
  },
  {
   "cell_type": "code",
   "execution_count": null,
   "metadata": {},
   "outputs": [],
   "source": []
  },
  {
   "cell_type": "code",
   "execution_count": null,
   "metadata": {},
   "outputs": [],
   "source": []
  },
  {
   "cell_type": "code",
   "execution_count": null,
   "metadata": {},
   "outputs": [],
   "source": []
  },
  {
   "cell_type": "code",
   "execution_count": null,
   "metadata": {},
   "outputs": [],
   "source": []
  },
  {
   "cell_type": "code",
   "execution_count": null,
   "metadata": {},
   "outputs": [],
   "source": []
  }
 ],
 "metadata": {
  "@webio": {
   "lastCommId": null,
   "lastKernelId": null
  },
  "kernelspec": {
   "display_name": "Julia 1.2.0",
   "language": "julia",
   "name": "julia-1.2"
  },
  "language_info": {
   "file_extension": ".jl",
   "mimetype": "application/julia",
   "name": "julia",
   "version": "1.2.0"
  }
 },
 "nbformat": 4,
 "nbformat_minor": 2
}
