{
 "cells": [
  {
   "cell_type": "markdown",
   "metadata": {},
   "source": [
    "<img\n",
    "src=\"https://www.imt-atlantique.fr/sites/default/files/Images/Ecole/charte-graphique/IMT_Atlantique_logo_RVB_Baseline_400x272.jpg\"\n",
    "WIDTH=200 HEIGHT=200>\n",
    "\n",
    "<CENTER>\n",
    "</br>\n",
    "<p><font size=\"5\"> TAF MCE - 2019</span></p>\n",
    "<p><font size=\"4\">  UE Numerical Methods </font></p>\n",
    "<p></p>\n",
    "<p><font size=\"5\">  Notebook 05: JuliaOpt - Julia optimization libraries - statement</font></p>\n",
    "</p></br>\n",
    "</p>\n",
    "</CENTER>\n",
    "\n",
    "---------------------------"
   ]
  },
  {
   "cell_type": "markdown",
   "metadata": {},
   "source": [
    "# <span style=\"color:#00B8DE\"> I - Symbolic computation for optimization with Sympy</span>\n",
    "\n",
    "Sympy is a Python library for symbolic computation that can be interfaced simply with Julia. It can be used when possible to get closed form solution of optimization problems. Inside Julia, additional Julia syntaxes can be used to work with Sympy.\n",
    "\n",
    "## Refs:\n",
    "\n",
    "> - https://www.sympy.org/ (sympy website)\n",
    "> - https://github.com/JuliaPy/SymPy.jl (SymPy Julia interface)\n",
    "> - http://mth229.github.io/symbolic.html (tuto)\n",
    "> - https://github.com/jverzani/SymPy.jl/blob/master/examples/tutorial.md (tuto)\n"
   ]
  },
  {
   "cell_type": "code",
   "execution_count": 1,
   "metadata": {},
   "outputs": [
    {
     "name": "stdout",
     "output_type": "stream",
     "text": [
      "\u001b[32m\u001b[1m  Updating\u001b[22m\u001b[39m registry at `~/.julia/registries/General`\n",
      "\u001b[32m\u001b[1m  Updating\u001b[22m\u001b[39m git-repo `https://github.com/JuliaRegistries/General.git`\n",
      "\u001b[2K\u001b[?25h[1mFetching:\u001b[22m\u001b[39m [========================================>]  100.0 %.0 %\u001b[32m\u001b[1m Resolving\u001b[22m\u001b[39m package versions...\n",
      "\u001b[32m\u001b[1m  Updating\u001b[22m\u001b[39m `~/.julia/environments/v1.2/Project.toml`\n",
      "\u001b[90m [no changes]\u001b[39m\n",
      "\u001b[32m\u001b[1m  Updating\u001b[22m\u001b[39m `~/.julia/environments/v1.2/Manifest.toml`\n",
      "\u001b[90m [no changes]\u001b[39m\n",
      "\u001b[32m\u001b[1m  Building\u001b[22m\u001b[39m SpecialFunctions → `~/.julia/packages/SpecialFunctions/ne2iw/deps/build.log`\n"
     ]
    },
    {
     "data": {
      "text/plain": [
       "false"
      ]
     },
     "execution_count": 1,
     "metadata": {},
     "output_type": "execute_result"
    }
   ],
   "source": [
    "using Pkg\n",
    "Pkg.add(\"SymPy\")\n",
    "Pkg.build(\"SpecialFunctions\")"
   ]
  },
  {
   "cell_type": "markdown",
   "metadata": {},
   "source": [
    "## <span style=\"color:#00B8DE\"> a) - Example </span>"
   ]
  },
  {
   "cell_type": "code",
   "execution_count": 9,
   "metadata": {},
   "outputs": [
    {
     "data": {
      "text/latex": [
       "\\[ \\left[ \\begin{array}{r}- \\frac{1}{4} - \\frac{\\sqrt{39} i}{4}\\\\- \\frac{1}{4} + \\frac{\\sqrt{39} i}{4}\\end{array} \\right] \\]"
      ],
      "text/plain": [
       "2-element Array{Sym,1}:\n",
       " -1/4 - sqrt(39)*I/4\n",
       " -1/4 + sqrt(39)*I/4"
      ]
     },
     "execution_count": 9,
     "metadata": {},
     "output_type": "execute_result"
    }
   ],
   "source": [
    "using SymPy\n",
    "#using LaTeXStrings\n",
    "\n",
    "@vars z\n",
    "solve((2z^2+z+5)')"
   ]
  },
  {
   "cell_type": "code",
   "execution_count": 10,
   "metadata": {},
   "outputs": [
    {
     "data": {
      "text/latex": [
       "\\begin{equation*}4 z^{3} + 2 z + 6\\end{equation*}"
      ],
      "text/plain": [
       "   3          \n",
       "4⋅z  + 2⋅z + 6"
      ]
     },
     "execution_count": 10,
     "metadata": {},
     "output_type": "execute_result"
    }
   ],
   "source": [
    "diff(z^4+z^2+6z,z)"
   ]
  },
  {
   "cell_type": "code",
   "execution_count": 11,
   "metadata": {},
   "outputs": [
    {
     "data": {
      "text/plain": [
       "(1, -1)"
      ]
     },
     "execution_count": 11,
     "metadata": {},
     "output_type": "execute_result"
    }
   ],
   "source": [
    "a = symbols(\"a\",positive=true)\n",
    "b = symbols(\"b\",negative=true)\n",
    "diff(abs(a)),diff(abs(b))"
   ]
  },
  {
   "cell_type": "markdown",
   "metadata": {},
   "source": [
    "## <span style=\"color:#00B8DE\"> b) - Constrained optimization: equality constraint </span>\n",
    "\n",
    "Using Sympy solve \n",
    "\n",
    "$$\n",
    "\\left\\{\n",
    "\\begin{array}{l}\n",
    "{\\text{opt}}_{x,y}\\; f(x,y) = xy \\\\\n",
    "{\\text {s.t.}}\\; h(x,y) = \\left(\\dfrac x a \\right)^2 + \\left(\\dfrac y b \\right)^2-1=0\n",
    "\\end{array}\n",
    "\\right.\n",
    "$$"
   ]
  },
  {
   "cell_type": "code",
   "execution_count": 104,
   "metadata": {},
   "outputs": [
    {
     "data": {
      "text/plain": [
       "4-element Array{Tuple{Sym,Sym,Sym},1}:\n",
       " (-sqrt(2)*a/2, -sqrt(2)*b/2, -a*b/2)\n",
       " (-sqrt(2)*a/2, sqrt(2)*b/2, a*b/2)  \n",
       " (sqrt(2)*a/2, -sqrt(2)*b/2, a*b/2)  \n",
       " (sqrt(2)*a/2, sqrt(2)*b/2, -a*b/2)  "
      ]
     },
     "execution_count": 104,
     "metadata": {},
     "output_type": "execute_result"
    }
   ],
   "source": [
    "import SymPy\n",
    "# Parameters & functions\n",
    "@vars x y\n",
    "a,b    = symbols(\"a b\", positive=true)\n",
    "λ      = symbols(\"λ\",real=true)\n",
    "f(x,y) = x*y\n",
    "h(x,y) = x^2/a^2 + y^2/b^2 - 1\n",
    "# Solution\n",
    "L(x,y) = f(x,y) + λ * h(x,y)\n",
    "∇L(x,y) = [diff(L(x,y),x), diff(L(x,y),y),h(x,y)]\n",
    "solve(∇L(x,y),(x,y,λ))"
   ]
  },
  {
   "cell_type": "markdown",
   "metadata": {},
   "source": [
    "## <span style=\"color:#00B8DE\"> c) - Constrained optimization: inequality constraint </span>\n",
    "\n",
    "Using Sympy solve \n",
    "\n",
    "$$\n",
    "\\left\\{\n",
    "\\begin{array}{l}\n",
    "{\\text{opt}}_{x,y}\\; f(x,y) = xy \\\\\n",
    "{\\text {s.t.}}\\; g_1(x,y) = (\\frac x a)^2 + (\\frac y b)^2\\leq 1;\\quad g_2(x,y) = -bx-ay+ab \\leq 0\n",
    "\\end{array}\n",
    "\\right.\n",
    "$$"
   ]
  },
  {
   "cell_type": "code",
   "execution_count": 13,
   "metadata": {},
   "outputs": [
    {
     "data": {
      "text/plain": [
       "8-element Array{NTuple{4,Sym},1}:\n",
       " (0, 0, 0, 0)                           \n",
       " (0, b, a*b/2, 1)                       \n",
       " (a/2, b/2, 0, 1/2)                     \n",
       " (a, 0, a*b/2, 1)                       \n",
       " (-sqrt(2)*a/2, -sqrt(2)*b/2, -a*b/2, 0)\n",
       " (-sqrt(2)*a/2, sqrt(2)*b/2, a*b/2, 0)  \n",
       " (sqrt(2)*a/2, -sqrt(2)*b/2, a*b/2, 0)  \n",
       " (sqrt(2)*a/2, sqrt(2)*b/2, -a*b/2, 0)  "
      ]
     },
     "execution_count": 13,
     "metadata": {},
     "output_type": "execute_result"
    }
   ],
   "source": [
    "import SymPy\n",
    "# Parameters & functions\n",
    "@vars x y\n",
    "a,b    = symbols(\"a b\", positive=true)\n",
    "λ1,λ2    = symbols(\"λ1 λ2\",real=true)\n",
    "f(x,y) = x*y\n",
    "g1(x,y) = x^2/a^2 + y^2/b^2 - 1\n",
    "g2(x,y) = -b*x -a*y +a*b\n",
    "# Solution\n",
    "L(x,y) = f(x,y) + λ1 * g1(x,y) + λ2 * g2(x,y)\n",
    "∇L(x,y) = [diff(L(x,y),x), diff(L(x,y),y), λ1*g1(x,y), λ2*g2(x,y)]\n",
    "solve(∇L(x,y),(x,y,λ1,λ2))"
   ]
  },
  {
   "cell_type": "markdown",
   "metadata": {},
   "source": [
    "# <span style=\"color:#00B8DE\"> II - Using JuliaOpt</span>\n",
    "\n",
    "If high performance numerical optimization is searched for optimization, one can look at **JuliaOpt** (http://www.juliaopt.org/), an organization that brings together packages related to optimization. In particular it supplies\n",
    "\n",
    "> - Julia standalone packages such as **Optim.jl** or **Convex.jl**\n",
    "> - modeling languages\n",
    "> - external solver interfaces\n",
    "<!-- >![alt text](./optim_overview.png) -->\n",
    "\n",
    "#### *Note:* **MathProgBase** library is an API (Application Programming Interface) for mathematical optimization solvers that has been replaced recently by **MathOptInterface**\n"
   ]
  },
  {
   "cell_type": "markdown",
   "metadata": {},
   "source": [
    "## Refs:\n",
    "\n",
    "> - https://www.juliaopt.org/ (JuliaOpt)\n",
    "> - http://www.juliaopt.org/packages/ (JuliaOpt packages list)\n",
    "> - https://github.com/JuliaOpt/Convex.jl (Convex)\n",
    "> - https://convexjl.readthedocs.io/en/latest/\n",
    "> - http://www.juliaopt.org/JuMP.jl/v0.19.0/ (JuMP)\n",
    "> - https://github.com/JuliaOpt/MathOptInterface.jl (MathOptInterface)"
   ]
  },
  {
   "cell_type": "markdown",
   "metadata": {},
   "source": [
    "## <span style=\"color:#00B8DE\"> a) Minimizing Rosenborck's function with Optim.jl</span>\n",
    "\n",
    "**Optim.jl**: a project to implement basic optimization algorithms in pure Julia for univariate and multivariate optimization.\n",
    "\n",
    "\n",
    "https://github.com/JuliaNLSolvers/Optim.jl\n",
    "\n",
    "Minimize Rosenbrock's $f({\\bf x})=\\sum_{i=1:n-1}[(1-{\\bf x}_i)^2+100(x_{i+1}-x_i^2)^2]$ with library **Optim.jl**\n",
    "using the conjugate gradient method. \n",
    "> - First let the algorithm compute the gradient by itself. Compare several optimization methods.\n",
    "> - Then, call the optimization function supplying the gradient function. \n",
    "> - Compare execution time\n",
    "\n",
    "Choose for instance $n=10$."
   ]
  },
  {
   "cell_type": "code",
   "execution_count": 191,
   "metadata": {},
   "outputs": [
    {
     "name": "stdout",
     "output_type": "stream",
     "text": [
      "\u001b[32m\u001b[1m Resolving\u001b[22m\u001b[39m package versions...\n",
      "\u001b[32m\u001b[1m  Updating\u001b[22m\u001b[39m `~/.julia/environments/v1.2/Project.toml`\n",
      "\u001b[90m [no changes]\u001b[39m\n",
      "\u001b[32m\u001b[1m  Updating\u001b[22m\u001b[39m `~/.julia/environments/v1.2/Manifest.toml`\n",
      "\u001b[90m [no changes]\u001b[39m\n"
     ]
    }
   ],
   "source": [
    "using Pkg\n",
    "Pkg.add(\"Optim\")"
   ]
  },
  {
   "cell_type": "code",
   "execution_count": 192,
   "metadata": {},
   "outputs": [
    {
     "data": {
      "text/plain": [
       "rosenbrock (generic function with 1 method)"
      ]
     },
     "execution_count": 192,
     "metadata": {},
     "output_type": "execute_result"
    }
   ],
   "source": [
    "function rosenbrock(x)\n",
    "    \n",
    "    out = 0\n",
    "    \n",
    "    N = length(x)\n",
    "    \n",
    "    for i in 1:N-1\n",
    "            \n",
    "        out += (1.0 - x[i])^2 + 100.0 * (x[i+1] - x[i]^2)^2\n",
    "    end\n",
    "    \n",
    "    return out\n",
    "\n",
    "end"
   ]
  },
  {
   "cell_type": "code",
   "execution_count": 193,
   "metadata": {},
   "outputs": [
    {
     "data": {
      "text/plain": [
       "∇_Ros! (generic function with 1 method)"
      ]
     },
     "execution_count": 193,
     "metadata": {},
     "output_type": "execute_result"
    }
   ],
   "source": [
    "function ∇_Ros!(∇,x)\n",
    "    \n",
    "    N = length(x)\n",
    "    \n",
    "    ∇[1] = -2.0 * (1.0 - x[1]) - 400.0 * (x[2] - x[1]^2) * x[1]\n",
    "    \n",
    "    for i in 2:N-1\n",
    "                \n",
    "        ∇[i] = -2.0 * (1.0 - x[i]) - 400.0 * (x[i+1] - x[i]^2) * x[i] + 200.0 * (x[i] - x[i-1]^2)\n",
    "        \n",
    "    end \n",
    "    \n",
    "    ∇[N] = 200.0 * (x[N] - x[N-1]^2)\n",
    "\n",
    "end"
   ]
  },
  {
   "cell_type": "code",
   "execution_count": 194,
   "metadata": {},
   "outputs": [
    {
     "data": {
      "text/plain": [
       "rosenbrock10 (generic function with 1 method)"
      ]
     },
     "execution_count": 194,
     "metadata": {},
     "output_type": "execute_result"
    }
   ],
   "source": [
    "function rosenbrock10(x)\n",
    "    \n",
    "    N = 10\n",
    "    \n",
    "    out = 0\n",
    "    \n",
    "    for i in 1:N-1\n",
    "                    \n",
    "        out += (1.0 - x[i])^2 + 100.0 * (x[i+1] - x[i]^2)^2\n",
    "    end\n",
    "    \n",
    "    return out\n",
    "\n",
    "end"
   ]
  },
  {
   "cell_type": "code",
   "execution_count": 195,
   "metadata": {},
   "outputs": [
    {
     "data": {
      "text/plain": [
       "∇_Ros10! (generic function with 1 method)"
      ]
     },
     "execution_count": 195,
     "metadata": {},
     "output_type": "execute_result"
    }
   ],
   "source": [
    "function ∇_Ros10!(∇,x)\n",
    "    \n",
    "    N = 10\n",
    "    \n",
    "    ∇[1] = -2.0 * (1.0 - x[1]) - 400.0 * (x[2] - x[1]^2) * x[1]\n",
    "    \n",
    "    for i in 2:N-1\n",
    "                \n",
    "        ∇[i] = -2.0 * (1.0 - x[i]) - 400.0 * (x[i+1] - x[i]^2) * x[i] + 200.0 * (x[i] - x[i-1]^2)\n",
    "        \n",
    "    end \n",
    "    \n",
    "    ∇[N] = 200.0 * (x[N] - x[N-1]^2)\n",
    "\n",
    "end"
   ]
  },
  {
   "cell_type": "code",
   "execution_count": 196,
   "metadata": {},
   "outputs": [
    {
     "data": {
      "text/latex": [
       "\\begin{equation*}\\left(- x_{1} + 1.0\\right)^{2} + 100.0 \\left(- x_{1}^{2} + x_{2}\\right)^{2} + \\left(- x_{2} + 1.0\\right)^{2} + 100.0 \\left(- x_{2}^{2} + x_{3}\\right)^{2} + \\left(- x_{3} + 1.0\\right)^{2} + 100.0 \\left(- x_{3}^{2} + x_{4}\\right)^{2}\\end{equation*}"
      ],
      "text/plain": [
       "                                 2                                    2       \n",
       "           2         ⎛    2     ⎞               2         ⎛    2     ⎞        \n",
       "(-x₁ + 1.0)  + 100.0⋅⎝- x₁  + x₂⎠  + (-x₂ + 1.0)  + 100.0⋅⎝- x₂  + x₃⎠  + (-x₃\n",
       "\n",
       "                             2\n",
       "       2         ⎛    2     ⎞ \n",
       " + 1.0)  + 100.0⋅⎝- x₃  + x₄⎠ "
      ]
     },
     "execution_count": 196,
     "metadata": {},
     "output_type": "execute_result"
    }
   ],
   "source": [
    "@vars x1 x2 x3 x4\n",
    "rosenbrock([x1,x2,x3,x4])"
   ]
  },
  {
   "cell_type": "markdown",
   "metadata": {},
   "source": [
    "## Conjugate Gradient"
   ]
  },
  {
   "cell_type": "code",
   "execution_count": 208,
   "metadata": {},
   "outputs": [
    {
     "name": "stdout",
     "output_type": "stream",
     "text": [
      "  0.000863 seconds (4.59 k allocations: 167.547 KiB)\n"
     ]
    },
    {
     "data": {
      "text/plain": [
       " * Status: success\n",
       "\n",
       " * Candidate solution\n",
       "    Minimizer: [1.00e+00, 1.00e+00, 1.00e+00,  ...]\n",
       "    Minimum:   1.812227e-16\n",
       "\n",
       " * Found with\n",
       "    Algorithm:     Conjugate Gradient\n",
       "    Initial Point: [0.00e+00, 0.00e+00, 0.00e+00,  ...]\n",
       "\n",
       " * Convergence measures\n",
       "    |x - x'|               = 2.09e-11 ≰ 0.0e+00\n",
       "    |x - x'|/|x'|          = 2.09e-11 ≰ 0.0e+00\n",
       "    |f(x) - f(x')|         = 1.63e-18 ≰ 0.0e+00\n",
       "    |f(x) - f(x')|/|f(x')| = 9.00e-03 ≰ 0.0e+00\n",
       "    |g(x)|                 = 7.52e-09 ≤ 1.0e-08\n",
       "\n",
       " * Work counters\n",
       "    Seconds run:   0  (vs limit Inf)\n",
       "    Iterations:    194\n",
       "    f(x) calls:    405\n",
       "    ∇f(x) calls:   212\n"
      ]
     },
     "execution_count": 208,
     "metadata": {},
     "output_type": "execute_result"
    }
   ],
   "source": [
    "using Optim\n",
    "N = 10\n",
    "\n",
    "@time result = optimize(rosenbrock, zeros(N), ConjugateGradient())"
   ]
  },
  {
   "cell_type": "code",
   "execution_count": 209,
   "metadata": {},
   "outputs": [
    {
     "name": "stdout",
     "output_type": "stream",
     "text": [
      "  0.000299 seconds (4.26 k allocations: 153.063 KiB)\n"
     ]
    },
    {
     "data": {
      "text/plain": [
       " * Status: success\n",
       "\n",
       " * Candidate solution\n",
       "    Minimizer: [1.00e+00, 1.00e+00, 1.00e+00,  ...]\n",
       "    Minimum:   2.369349e-17\n",
       "\n",
       " * Found with\n",
       "    Algorithm:     Conjugate Gradient\n",
       "    Initial Point: [0.00e+00, 0.00e+00, 0.00e+00,  ...]\n",
       "\n",
       " * Convergence measures\n",
       "    |x - x'|               = 1.92e-11 ≰ 0.0e+00\n",
       "    |x - x'|/|x'|          = 1.92e-11 ≰ 0.0e+00\n",
       "    |f(x) - f(x')|         = 2.19e-19 ≰ 0.0e+00\n",
       "    |f(x) - f(x')|/|f(x')| = 9.24e-03 ≰ 0.0e+00\n",
       "    |g(x)|                 = 4.47e-09 ≤ 1.0e-08\n",
       "\n",
       " * Work counters\n",
       "    Seconds run:   0  (vs limit Inf)\n",
       "    Iterations:    175\n",
       "    f(x) calls:    354\n",
       "    ∇f(x) calls:   180\n"
      ]
     },
     "execution_count": 209,
     "metadata": {},
     "output_type": "execute_result"
    }
   ],
   "source": [
    "@time optimize(rosenbrock, ∇_Ros!, zeros(N), ConjugateGradient())"
   ]
  },
  {
   "cell_type": "markdown",
   "metadata": {},
   "source": [
    "## BFGS"
   ]
  },
  {
   "cell_type": "code",
   "execution_count": 210,
   "metadata": {},
   "outputs": [
    {
     "name": "stdout",
     "output_type": "stream",
     "text": [
      "  0.000247 seconds (1.44 k allocations: 60.328 KiB)\n"
     ]
    },
    {
     "data": {
      "text/plain": [
       " * Status: success\n",
       "\n",
       " * Candidate solution\n",
       "    Minimizer: [1.00e+00, 1.00e+00, 1.00e+00,  ...]\n",
       "    Minimum:   1.617061e-16\n",
       "\n",
       " * Found with\n",
       "    Algorithm:     BFGS\n",
       "    Initial Point: [0.00e+00, 0.00e+00, 0.00e+00,  ...]\n",
       "\n",
       " * Convergence measures\n",
       "    |x - x'|               = 4.66e-09 ≰ 0.0e+00\n",
       "    |x - x'|/|x'|          = 4.66e-09 ≰ 0.0e+00\n",
       "    |f(x) - f(x')|         = 9.67e-17 ≰ 0.0e+00\n",
       "    |f(x) - f(x')|/|f(x')| = 5.98e-01 ≰ 0.0e+00\n",
       "    |g(x)|                 = 5.52e-09 ≤ 1.0e-08\n",
       "\n",
       " * Work counters\n",
       "    Seconds run:   0  (vs limit Inf)\n",
       "    Iterations:    65\n",
       "    f(x) calls:    159\n",
       "    ∇f(x) calls:   159\n"
      ]
     },
     "execution_count": 210,
     "metadata": {},
     "output_type": "execute_result"
    }
   ],
   "source": [
    "using Optim\n",
    "\n",
    "@time result = optimize(rosenbrock10, zeros(N), BFGS())"
   ]
  },
  {
   "cell_type": "code",
   "execution_count": 211,
   "metadata": {},
   "outputs": [
    {
     "name": "stdout",
     "output_type": "stream",
     "text": [
      "  0.000189 seconds (1.45 k allocations: 60.375 KiB)\n"
     ]
    },
    {
     "data": {
      "text/plain": [
       " * Status: success\n",
       "\n",
       " * Candidate solution\n",
       "    Minimizer: [1.00e+00, 1.00e+00, 1.00e+00,  ...]\n",
       "    Minimum:   7.443667e-25\n",
       "\n",
       " * Found with\n",
       "    Algorithm:     BFGS\n",
       "    Initial Point: [0.00e+00, 0.00e+00, 0.00e+00,  ...]\n",
       "\n",
       " * Convergence measures\n",
       "    |x - x'|               = 4.59e-10 ≰ 0.0e+00\n",
       "    |x - x'|/|x'|          = 4.59e-10 ≰ 0.0e+00\n",
       "    |f(x) - f(x')|         = 6.42e-19 ≰ 0.0e+00\n",
       "    |f(x) - f(x')|/|f(x')| = 8.63e+05 ≰ 0.0e+00\n",
       "    |g(x)|                 = 1.95e-11 ≤ 1.0e-08\n",
       "\n",
       " * Work counters\n",
       "    Seconds run:   0  (vs limit Inf)\n",
       "    Iterations:    65\n",
       "    f(x) calls:    160\n",
       "    ∇f(x) calls:   160\n"
      ]
     },
     "execution_count": 211,
     "metadata": {},
     "output_type": "execute_result"
    }
   ],
   "source": [
    "@time optimize(rosenbrock10, ∇_Ros10!, zeros(N), BFGS())"
   ]
  },
  {
   "cell_type": "markdown",
   "metadata": {},
   "source": [
    "## Gradient Descent"
   ]
  },
  {
   "cell_type": "code",
   "execution_count": 212,
   "metadata": {},
   "outputs": [
    {
     "name": "stdout",
     "output_type": "stream",
     "text": [
      "  0.002580 seconds (21.55 k allocations: 825.047 KiB)\n"
     ]
    },
    {
     "data": {
      "text/plain": [
       " * Status: failure (reached maximum number of iterations) (line search failed)\n",
       "\n",
       " * Candidate solution\n",
       "    Minimizer: [9.97e-01, 9.94e-01, 9.89e-01,  ...]\n",
       "    Minimum:   3.899416e-01\n",
       "\n",
       " * Found with\n",
       "    Algorithm:     Gradient Descent\n",
       "    Initial Point: [0.00e+00, 0.00e+00, 0.00e+00,  ...]\n",
       "\n",
       " * Convergence measures\n",
       "    |x - x'|               = 7.29e-04 ≰ 0.0e+00\n",
       "    |x - x'|/|x'|          = 7.31e-04 ≰ 0.0e+00\n",
       "    |f(x) - f(x')|         = 1.19e-03 ≰ 0.0e+00\n",
       "    |f(x) - f(x')|/|f(x')| = 3.06e-03 ≰ 0.0e+00\n",
       "    |g(x)|                 = 5.96e-01 ≰ 1.0e-08\n",
       "\n",
       " * Work counters\n",
       "    Seconds run:   0  (vs limit Inf)\n",
       "    Iterations:    1000\n",
       "    f(x) calls:    2502\n",
       "    ∇f(x) calls:   2502\n"
      ]
     },
     "execution_count": 212,
     "metadata": {},
     "output_type": "execute_result"
    }
   ],
   "source": [
    "@time result = optimize(rosenbrock10, zeros(N), GradientDescent())"
   ]
  },
  {
   "cell_type": "code",
   "execution_count": 213,
   "metadata": {},
   "outputs": [
    {
     "name": "stdout",
     "output_type": "stream",
     "text": [
      "  0.001804 seconds (21.55 k allocations: 824.984 KiB)\n"
     ]
    },
    {
     "data": {
      "text/plain": [
       " * Status: failure (reached maximum number of iterations) (line search failed)\n",
       "\n",
       " * Candidate solution\n",
       "    Minimizer: [9.97e-01, 9.94e-01, 9.89e-01,  ...]\n",
       "    Minimum:   3.899416e-01\n",
       "\n",
       " * Found with\n",
       "    Algorithm:     Gradient Descent\n",
       "    Initial Point: [0.00e+00, 0.00e+00, 0.00e+00,  ...]\n",
       "\n",
       " * Convergence measures\n",
       "    |x - x'|               = 7.29e-04 ≰ 0.0e+00\n",
       "    |x - x'|/|x'|          = 7.31e-04 ≰ 0.0e+00\n",
       "    |f(x) - f(x')|         = 1.19e-03 ≰ 0.0e+00\n",
       "    |f(x) - f(x')|/|f(x')| = 3.06e-03 ≰ 0.0e+00\n",
       "    |g(x)|                 = 5.96e-01 ≰ 1.0e-08\n",
       "\n",
       " * Work counters\n",
       "    Seconds run:   0  (vs limit Inf)\n",
       "    Iterations:    1000\n",
       "    f(x) calls:    2502\n",
       "    ∇f(x) calls:   2502\n"
      ]
     },
     "execution_count": 213,
     "metadata": {},
     "output_type": "execute_result"
    }
   ],
   "source": [
    "@time optimize(rosenbrock10, ∇_Ros10!, zeros(N), GradientDescent())"
   ]
  },
  {
   "cell_type": "markdown",
   "metadata": {},
   "source": [
    "For the three methods used, we can see that when we supply the gradient the convergence is faster."
   ]
  },
  {
   "cell_type": "markdown",
   "metadata": {},
   "source": [
    " "
   ]
  },
  {
   "cell_type": "markdown",
   "metadata": {},
   "source": [
    "## <span style=\"color:#00B8DE\"> b) Linear and quadratic problems with Convex.jl</span>\n",
    "\n",
    "**Convex.jl**: A Julia library for solving linear and convex problems via disciplined convex optimization (see the first slides of http://stanford.edu/~boyd/papers/pdf/dcp_talk.pdf for an introduction to the subject)\n",
    "\n",
    "<!-- \n",
    "Examples: https://nbviewer.jupyter.org/github/JuliaOpt/Convex.jl/blob/master/examples/basic_usage.ipynb\n",
    "\n",
    "https://convexjl.readthedocs.io/en/latest/quick_tutorial.html \n",
    "-->"
   ]
  },
  {
   "cell_type": "code",
   "execution_count": 109,
   "metadata": {},
   "outputs": [
    {
     "name": "stdout",
     "output_type": "stream",
     "text": [
      "\u001b[32m\u001b[1m Resolving\u001b[22m\u001b[39m package versions...\n",
      "\u001b[32m\u001b[1m  Updating\u001b[22m\u001b[39m `~/.julia/environments/v1.2/Project.toml`\n",
      "\u001b[90m [no changes]\u001b[39m\n",
      "\u001b[32m\u001b[1m  Updating\u001b[22m\u001b[39m `~/.julia/environments/v1.2/Manifest.toml`\n",
      "\u001b[90m [no changes]\u001b[39m\n",
      "\u001b[32m\u001b[1m Resolving\u001b[22m\u001b[39m package versions...\n",
      "\u001b[32m\u001b[1m  Updating\u001b[22m\u001b[39m `~/.julia/environments/v1.2/Project.toml`\n",
      "\u001b[90m [no changes]\u001b[39m\n",
      "\u001b[32m\u001b[1m  Updating\u001b[22m\u001b[39m `~/.julia/environments/v1.2/Manifest.toml`\n",
      "\u001b[90m [no changes]\u001b[39m\n"
     ]
    }
   ],
   "source": [
    "import Pkg\n",
    "Pkg.add(\"Convex\") \n",
    "Pkg.add(\"ECOS\") # a lightweight LQ (linear and quadratic) and conic solver "
   ]
  },
  {
   "cell_type": "markdown",
   "metadata": {},
   "source": [
    "#### <span style=\"color:#00B8DE\"> Examples: linear programming</span>"
   ]
  },
  {
   "cell_type": "code",
   "execution_count": 110,
   "metadata": {},
   "outputs": [
    {
     "name": "stdout",
     "output_type": "stream",
     "text": [
      "problem status = Optimal\n",
      "[x, y, z]= [1.0, 1.0, 0.25]\n"
     ]
    }
   ],
   "source": [
    "using Convex\n",
    "using ECOS\n",
    "\n",
    "x = Variable()\n",
    "y = Variable()\n",
    "z = Variable()\n",
    "expr = x + y + z\n",
    "    problem = minimize(expr, x >= 1, y >= x, 4 * z >= y)\n",
    "solve!(problem, ECOSSolver(verbose=0))\n",
    "println(\"problem status = $(problem.status)\")\n",
    "println(\"[x, y, z]= $([round.(a.value; digits=2) for a in (x, y, z)])\")"
   ]
  },
  {
   "cell_type": "code",
   "execution_count": 111,
   "metadata": {},
   "outputs": [
    {
     "name": "stdout",
     "output_type": "stream",
     "text": [
      "problem status = Optimal\n",
      "objective = 81.5\n",
      "x_opt = [1.5; 5.0; 10.0; 10.0]\n",
      "x[1] + x[4] - x[2] = [6.0]\n"
     ]
    }
   ],
   "source": [
    "using LinearAlgebra: Diagonal\n",
    "\n",
    "x = Variable(4)\n",
    "c = [1; 2; 3; 4]\n",
    "A = Diagonal(ones(4))\n",
    "b = [10; 10; 10; 10]\n",
    "p = Convex.maximize(dot(c, x)) # or c' * x\n",
    "p.constraints += A * x <= b\n",
    "p.constraints += [x >=0 ; x <= 10; x[2] <= 5; x[1] + x[4] - x[2] <= 6.5]\n",
    "Convex.solve!(p, ECOSSolver(verbose=0))\n",
    "\n",
    "println(\"problem status = $(p.status)\")\n",
    "println(\"objective = $(round(p.optval; digits=2))\")\n",
    "println(\"x_opt = $(round.(x.value; digits=2))\")\n",
    "println(\"x[1] + x[4] - x[2] = $(round.(evaluate(x[1] + x[4] - x[2])))\")"
   ]
  },
  {
   "cell_type": "markdown",
   "metadata": {},
   "source": [
    "#### <span style=\"color:#00B8DE\"> Exercise: constrained minimum squared error</span>\n",
    "\n",
    "> - Write and test a function to solve \n",
    "$$\n",
    "\\min \\parallel{\\bf Ax}-{\\bf b}\\parallel\\; s.t.\\; {\\bf x}\\succeq 0.\n",
    "$$"
   ]
  },
  {
   "cell_type": "code",
   "execution_count": 114,
   "metadata": {},
   "outputs": [
    {
     "name": "stdout",
     "output_type": "stream",
     "text": [
      "problem status = Optimal\n",
      "objective = -0.0\n",
      "x_opt = [0.41; 0.42; 3.2; 4.38; 6.47]\n"
     ]
    }
   ],
   "source": [
    "function MSE(A,b)\n",
    "    # Minimize ||Ax - b||^2 subject to x >= 0\n",
    "    x = Variable(size(A)[2])\n",
    "    v = A * x - b\n",
    "    p = Convex.minimize(sumsquares(v))\n",
    "    p.constraints += [x>=0]\n",
    "    Convex.solve!(p, ECOSSolver(verbose=0))\n",
    "    \n",
    "    println(\"problem status = $(p.status)\")\n",
    "    println(\"objective = $(round(p.optval; digits=2))\")\n",
    "    println(\"x_opt = $(round.(x.value; digits=2))\")\n",
    "end\n",
    "    \n",
    "# Generate random problem data\n",
    "m = 3;  n = 5\n",
    "A = randn(m, n); b = randn(m, 1)\n",
    "MSE(A,b)"
   ]
  },
  {
   "cell_type": "markdown",
   "metadata": {},
   "source": [
    "## <span style=\"color:#00B8DE\"> c) Using JuMP.jl</span>\n",
    "\n",
    "We will look at **JuMP** modeling language and use it with several optimization solvers.\n",
    "\n",
    "**Notes** \n",
    "> - The API **MathProgBase** is being deprecated and replaced by **MathOptInterface**\n",
    "> - Some packages need installation of additional libraries, possibly as a super-user (see system administrator)\n"
   ]
  },
  {
   "cell_type": "code",
   "execution_count": 18,
   "metadata": {},
   "outputs": [
    {
     "name": "stdout",
     "output_type": "stream",
     "text": [
      "\u001b[32m\u001b[1m Resolving\u001b[22m\u001b[39m package versions...\n",
      "\u001b[32m\u001b[1m Installed\u001b[22m\u001b[39m JuMP ─ v0.20.1\n",
      "\u001b[32m\u001b[1m  Updating\u001b[22m\u001b[39m `~/.julia/environments/v1.2/Project.toml`\n",
      " \u001b[90m [4076af6c]\u001b[39m\u001b[92m + JuMP v0.20.1\u001b[39m\n",
      "\u001b[32m\u001b[1m  Updating\u001b[22m\u001b[39m `~/.julia/environments/v1.2/Manifest.toml`\n",
      " \u001b[90m [4076af6c]\u001b[39m\u001b[92m + JuMP v0.20.1\u001b[39m\n"
     ]
    }
   ],
   "source": [
    "using Pkg\n",
    "Pkg.add(\"JuMP\")"
   ]
  },
  {
   "cell_type": "code",
   "execution_count": 44,
   "metadata": {},
   "outputs": [
    {
     "name": "stdout",
     "output_type": "stream",
     "text": [
      "\u001b[32m\u001b[1m Resolving\u001b[22m\u001b[39m package versions...\n",
      "\u001b[32m\u001b[1m  Updating\u001b[22m\u001b[39m `~/.julia/environments/v1.2/Project.toml`\n",
      "\u001b[90m [no changes]\u001b[39m\n",
      "\u001b[32m\u001b[1m  Updating\u001b[22m\u001b[39m `~/.julia/environments/v1.2/Manifest.toml`\n",
      "\u001b[90m [no changes]\u001b[39m\n"
     ]
    }
   ],
   "source": [
    "#Pkg.add(\"Cbc\")      # LQ (linear and quadratic) programming\n",
    "#Pkg.add(\"Clp\")      # LQ programming\n",
    "#Pkg.add(\"SCS\")      # popular for cone programming\n",
    "#Pkg.add(\"Pajarito\") # MICP (mixed integer constraint)\n",
    "Pkg.add(\"Ipopt\")    # Interior Point Optimizer \n",
    "#Pkg.add(\"NLopt\")    # nonlinear optimization\n",
    "#Pkg.add(\"GLPK\")     # GNU Linear Programming Kit"
   ]
  },
  {
   "cell_type": "markdown",
   "metadata": {},
   "source": [
    "#### <span style=\"color:#00B8DE\"> Example 1: linear program</span>"
   ]
  },
  {
   "cell_type": "code",
   "execution_count": 7,
   "metadata": {},
   "outputs": [
    {
     "name": "stdout",
     "output_type": "stream",
     "text": [
      "Max 5 x + 3 y\n",
      "Subject to\n",
      " x + 5 y ≤ 3.0\n",
      " x ≥ 0.0\n",
      " y ≥ 0.0\n",
      " x ≤ 2.0\n",
      " y ≤ 30.0\n",
      "\n",
      "Objective value: 10.6\n",
      "x = 2.0\n",
      "y = 0.2\n"
     ]
    },
    {
     "data": {
      "text/plain": [
       "\u001b[32m\u001b[1mTest Passed\u001b[22m\u001b[39m"
      ]
     },
     "execution_count": 7,
     "metadata": {},
     "output_type": "execute_result"
    }
   ],
   "source": [
    "# https://github.com/JuliaOpt/JuMP.jl/blob/master/examples/basic.jl\n",
    "using JuMP, GLPK, Test\n",
    "\"\"\"\n",
    "example_basic([verbose = true])\n",
    "Formulate and solve a simple LP:\n",
    "    max 5x + 3y\n",
    "     st 1x + 5y <= 3\n",
    "         0 <= x <= 2\n",
    "         0 <= y <= 30\n",
    "If `verbose = true`, print the model and the solution.\n",
    "\"\"\"\n",
    "function example_basic(verbose=true)\n",
    "    model = Model(with_optimizer(GLPK.Optimizer))\n",
    "    @variable(model, 0 <= x <= 2)\n",
    "    @variable(model, 0 <= y <= 30)\n",
    "    @objective(model, Max, 5x + 3y)\n",
    "    @constraint(model, 1x + 5y <= 3.0)\n",
    "\n",
    "    #set_silent(model)\n",
    "    if verbose\n",
    "        print(model)\n",
    "    end\n",
    "\n",
    "    optimize!(model)\n",
    "    if verbose\n",
    "        println(\"\\nObjective value: $(objective_value(model))\")\n",
    "        println(\"x = $(value(x))\")\n",
    "        println(\"y = $(value(y))\")\n",
    "    end\n",
    "\n",
    "    @test objective_value(model) ≈ 10.6\n",
    "    @test value(x) ≈ 2\n",
    "    @test value(y) ≈ 0.2\n",
    "end\n",
    "\n",
    "verbose = true\n",
    "example_basic(verbose)"
   ]
  },
  {
   "cell_type": "markdown",
   "metadata": {},
   "source": [
    "x+5y=3, x=2, 5+μ+ν=0, 3+5μ=0 ⇒ x,y,μ,ν=2,0.2,-2/3,-13/3\n",
    "μ and ν are negative (maximization problem) and other multipliers set to 0, Khun&Tucker conditions are satisfied and problem is convex. Hence we got the true solution"
   ]
  },
  {
   "cell_type": "markdown",
   "metadata": {},
   "source": [
    "#### <span style=\"color:#00B8DE\"> Example 2: quadratic objective</span>"
   ]
  },
  {
   "cell_type": "code",
   "execution_count": 9,
   "metadata": {},
   "outputs": [
    {
     "name": "stdout",
     "output_type": "stream",
     "text": [
      "Min x² + 2 x*y + y²\n",
      "Subject to\n",
      " x + y ≥ 1.0\n",
      " x ≥ 0.0\n",
      " y ≥ 0.0\n",
      " x ≤ 2.0\n",
      " y ≤ 30.0\n",
      "\n",
      "Objective value: 1.0\n",
      "x = 0.28\n",
      "y = 0.72\n"
     ]
    }
   ],
   "source": [
    "using JuMP\n",
    "using Ipopt\n",
    "\n",
    "function example_quadratic(verbose = true)\n",
    "    m = Model(with_optimizer(Ipopt.Optimizer,print_level=0))\n",
    "    @variable(m, 0 <= x <= 2 )\n",
    "    @variable(m, 0 <= y <= 30 )\n",
    "    @objective(m, Min, x*x+ 2x*y + y*y)\n",
    "    @constraint(m, x + y >= 1 )\n",
    " \n",
    "    if verbose\n",
    "        print(m)\n",
    "    end\n",
    "\n",
    "    set_silent(m)\n",
    "    optimize!(m)\n",
    "    if verbose\n",
    "        println(\"\\nObjective value: $(round(objective_value(m);digits=2))\")\n",
    "        println(\"x = $(round(value(x);digits=2))\")\n",
    "        println(\"y = $(round(value(y);digits=2))\")\n",
    "    end\n",
    "end\n",
    "\n",
    "example_quadratic()"
   ]
  },
  {
   "cell_type": "markdown",
   "metadata": {},
   "source": [
    "#### <span style=\"color:#00B8DE\"> Example 3: conic constraints</span>\n",
    "\n",
    "Let $x\\in\\mathbb{R}^{n+1}, A\\in\\mathbb{R}^{n\\times n}, b\\in\\mathbb{R}^{n}$. Solve \n",
    "$$\n",
    "\\left\\{\n",
    "\\begin{array}{l}\n",
    "\\min_{x} \\parallel x-u\\parallel \\\\\n",
    "{\\text {s.t.}}\\; \\parallel Ax_{1:n}-b\\parallel \\leq x_{n+1};\\;x\\geq 0\n",
    "\\end{array}\n",
    "\\right.\n",
    "$$"
   ]
  },
  {
   "cell_type": "code",
   "execution_count": 19,
   "metadata": {},
   "outputs": [
    {
     "name": "stdout",
     "output_type": "stream",
     "text": [
      "Min t\n",
      "Subject to\n",
      " [t, x[1] + 0.7578265483823386, x[2] - 1.6942749358728655, x[3] + 0.3647477869287509, x[4] + 0.8116409533402457] ∈ MathOptInterface.SecondOrderCone(5)\n",
      " [x[5], -1.6521932946195572 x[1] + 0.024564448652553663 x[2] - 1.2848319227679927 x[3] + 0.7012862533187282 x[4] - 0.04192602599590368, 0.35980972389649585 x[1] + 0.16138616997464175 x[2] + 2.209078607235978 x[3] + 1.5231578909391517 x[4] - 0.17021383104017934, 0.1536682840079363 x[1] - 0.5138685986002539 x[2] + 1.709832263155149 x[3] - 0.5035558348292005 x[4] + 0.005390792338667495, -1.6182771305345947 x[1] + 2.986915687340239 x[2] + 1.136839087446193 x[3] - 0.8846924643721332 x[4] - 0.9638425277646077] ∈ MathOptInterface.SecondOrderCone(5)\n",
      " x[1] ≥ 0.0\n",
      " x[2] ≥ 0.0\n",
      " x[3] ≥ 0.0\n",
      " x[4] ≥ 0.0\n",
      " x[5] ≥ 0.0\n",
      "\n",
      "Objective value: 1.17\n",
      "x = [0.0, 1.69, 0.0, 0.0]\n",
      "t = 1.17\n"
     ]
    },
    {
     "name": "stderr",
     "output_type": "stream",
     "text": [
      "┌ Info: Precompiling JuMP [4076af6c-e467-56ae-b986-b466b2749572]\n",
      "└ @ Base loading.jl:1242\n",
      "WARNING: using JuMP.Constant in module Main conflicts with an existing identifier.\n"
     ]
    }
   ],
   "source": [
    "using JuMP, ECOS, LinearAlgebra\n",
    "\n",
    "function example_quadratic(n; verbose = true)\n",
    "    A = randn(n,n)\n",
    "    b = randn(n)\n",
    "    u = randn(n)\n",
    "\n",
    "    m = Model(with_optimizer(ECOS.Optimizer))\n",
    "    @variable(m, x[i=1:n+1]>=0)\n",
    "    ##########################\n",
    "    @variable(m, t)\n",
    "    @objective(m, Min, t)\n",
    "    @constraint(m, vcat(t, (x[1:n]-u)) in SecondOrderCone())\n",
    "    ##########################\n",
    "    # Know also works with\n",
    "    # @objective(m, Min, (x[1:n]-u)'*(x[1:n]-u))\n",
    "    u = vcat(x[n+1],(A*x[1:n]-b))\n",
    "    @constraint(m, u in SecondOrderCone())\n",
    "\n",
    "    print(m)\n",
    "\n",
    "    std = stdout # save original stdout stream\n",
    "    redirect_stdout()\n",
    "    JuMP.optimize!(m)\n",
    "    redirect_stdout(std) # restore stdout\n",
    "\n",
    "    println(\"\\nObjective value: $(round.(JuMP.objective_value(m);digits=2))\")\n",
    "    println(\"x = $(round.([JuMP.value(x[k]) for k=1:n];digits=2))\")\n",
    "    println(\"t = $(round.(JuMP.value(t);digits=2))\")\n",
    "end\n",
    "\n",
    "example_quadratic(4)"
   ]
  },
  {
   "cell_type": "markdown",
   "metadata": {},
   "source": [
    "#### <span style=\"color:#00B8DE\"> Exercise 1: nonlinear optimization</span>\n",
    "\n",
    "Using **Ipopt** solver, solve\n",
    "\n",
    "$$\n",
    "\\max_{x,y} xy^2\\\\\n",
    "{\\text {s.t.}}\\; x^3+y^2= 1;\\;x\\geq 0;\\;y\\geq 0\n",
    "$$\n",
    "\n",
    "Compare the result obtained with the theoretical solution\n"
   ]
  },
  {
   "cell_type": "code",
   "execution_count": 4,
   "metadata": {},
   "outputs": [
    {
     "name": "stdout",
     "output_type": "stream",
     "text": [
      "Max x * y ^ 2.0\n",
      "Subject to\n",
      " x ≥ 0.0\n",
      " y ≥ 0.0\n",
      " (x ^ 3.0 + y ^ 2.0) - 1.0 = 0\n",
      "\n",
      "Objective value: 0.47\n",
      "x = 0.6299605253670073\n",
      "y = 0.8660254034964514\n"
     ]
    },
    {
     "data": {
      "text/plain": [
       "(x, y)"
      ]
     },
     "execution_count": 4,
     "metadata": {},
     "output_type": "execute_result"
    }
   ],
   "source": [
    "using JuMP, Ipopt\n",
    "\n",
    "function excercise_one(verbose = true)\n",
    "\n",
    "    m = Model(with_optimizer(Ipopt.Optimizer))\n",
    "    @variable(m, x>=0)\n",
    "    @variable(m, y>=0)\n",
    "    @NLobjective(m, Max, x*y^2)\n",
    "    @NLconstraint(m,x^3+y^2==1.0)\n",
    "\n",
    "    print(m)\n",
    "    \n",
    "    std = stdout # save original stdout stream\n",
    "    redirect_stdout()\n",
    "    optimize!(m)\n",
    "    redirect_stdout(std) # restore stdout\n",
    "    \n",
    "    println(\"\\nObjective value: $(round(objective_value(m);digits=2))\")\n",
    "    println(\"x = $(value(x))\")\n",
    "    println(\"y = $(value(y))\")\n",
    "    \n",
    "    return x,y\n",
    "    \n",
    "end\n",
    "\n",
    "x,y = excercise_one()\n"
   ]
  },
  {
   "cell_type": "code",
   "execution_count": 5,
   "metadata": {},
   "outputs": [
    {
     "name": "stdout",
     "output_type": "stream",
     "text": [
      "Error evaluation: [εx,εy] = [4.1957082252963573e-10, -2.879871896510622e-10]"
     ]
    }
   ],
   "source": [
    "# s = print(\"\\U221B\")\n",
    "print(\"Error evaluation: [εx,εy] = \")\n",
    "print(\"[\", JuMP.value(x)-1/∛4,\", \", JuMP.value(y)-√3/2,\"]\" )"
   ]
  },
  {
   "cell_type": "markdown",
   "metadata": {},
   "source": [
    "#### <span style=\"color:#00B8DE\"> Exercise 2: nonlinear optimization (SISEA Master, June 2016)</span>\n",
    "\n",
    "Using **Ipopt** solver, solve\n",
    "$$\n",
    "{\\text {solve}}\\; \\min_{x,y} x-y^2\\\\\n",
    "{\\text {s.t.}}\\; x^2+y^2\\leq 1\n",
    "$$\n",
    "\n",
    "Compare the result obtained with the theoretical solution"
   ]
  },
  {
   "cell_type": "code",
   "execution_count": 144,
   "metadata": {},
   "outputs": [
    {
     "name": "stdout",
     "output_type": "stream",
     "text": [
      "Min x - y ^ 2.0\n",
      "Subject to\n",
      " x ≥ 0.0\n",
      " y ≥ 0.0\n",
      " (x ^ 3.0 + y ^ 2.0) - 1.0 ≤ 0\n",
      "\n",
      "Objective value: -1.0\n",
      "x = 0.0\n",
      "y = 1.0000000037466314\n"
     ]
    },
    {
     "data": {
      "text/plain": [
       "(x, y)"
      ]
     },
     "execution_count": 144,
     "metadata": {},
     "output_type": "execute_result"
    }
   ],
   "source": [
    "using JuMP, Ipopt\n",
    "\n",
    "function excercise_two(verbose = true)\n",
    "\n",
    "    m = Model(with_optimizer(Ipopt.Optimizer))\n",
    "    @variable(m, x>=0)\n",
    "    @variable(m, y>=0)\n",
    "    @NLobjective(m, Min, x-y^2)\n",
    "    @NLconstraint(m,x^3+y^2<=1.0)\n",
    "\n",
    "    print(m)\n",
    "    \n",
    "    std = stdout # save original stdout stream\n",
    "    redirect_stdout()\n",
    "    optimize!(m)\n",
    "    redirect_stdout(std) # restore stdout\n",
    "    \n",
    "    println(\"\\nObjective value: $(round(objective_value(m);digits=2))\")\n",
    "    println(\"x = $(value(x))\")\n",
    "    println(\"y = $(value(y))\")\n",
    "    \n",
    "    return x,y\n",
    "    \n",
    "end\n",
    "\n",
    "x,y = excercise_two()"
   ]
  },
  {
   "cell_type": "markdown",
   "metadata": {},
   "source": [
    "#### <span style=\"color:#00B8DE\"> Exercise 3: constrained maximum likelihood estimation</span>\n",
    "\n",
    "> - Implement the maximum likelihood estimation of mean $\\mu$ and variance $\\sigma^2$ for Gaussian $\\mathcal{N}(0,1)$ sample\n",
    "> - Implement the same problem under additional constraint $\\mu=\\sigma^2$"
   ]
  },
  {
   "cell_type": "code",
   "execution_count": 190,
   "metadata": {},
   "outputs": [
    {
     "name": "stdout",
     "output_type": "stream",
     "text": [
      "Without constraint\n",
      "\n",
      "Objective value: -1393.36\n",
      "μ = 0.010615355246404532\n",
      "σ = 0.9747453518972121\n",
      "\n",
      "With the constraint  μ = σ \n",
      "\n",
      "Objective value: -1882.5\n",
      "μ = 0.9695099250475486\n",
      "σ = 0.9695099250475486\n"
     ]
    }
   ],
   "source": [
    "#https://github.com/JuliaOpt/JuMP.jl/blob/master/examples/mle.jl\n",
    "\n",
    "using JuMP, Ipopt, Random, Statistics, Test\n",
    "\n",
    "\"\"\"\n",
    "    example_mle()\n",
    "Use nonlinear optimization to compute the maximum likelihood estimate (MLE) of\n",
    "the parameters of a normal distribution aka the sample mean and variance\n",
    "\"\"\"\n",
    "\n",
    "function example_mle(N; verbose = true)\n",
    "                \n",
    "    x = randn(N)\n",
    "            \n",
    "    model = Model(with_optimizer(Ipopt.Optimizer))\n",
    "    @variable(model, μ>=0)\n",
    "    @variable(model, σ>=0)\n",
    "    @NLobjective(model, Max, N / 2 * log(1 / (2 * π * σ^2)) - sum((xi - μ)^2 for xi in x) / (2 * σ^2))\n",
    "\n",
    "    #print(model)\n",
    "    \n",
    "    std = stdout # save original stdout stream\n",
    "    redirect_stdout()\n",
    "    optimize!(model)\n",
    "    redirect_stdout(std) # restore stdout\n",
    "    \n",
    "    println(\"Without constraint\")\n",
    "    println(\"\\nObjective value: $(round(objective_value(model);digits=2))\")\n",
    "    println(\"μ = $(value(μ))\")\n",
    "    println(\"σ = $(value(σ))\")\n",
    "    println(\"\")\n",
    "    \n",
    "    #return μ,σ\n",
    "                \n",
    "    @NLconstraint(model, μ == σ)\n",
    "    optimize!(model)\n",
    "                \n",
    "    println(\"With the constraint  μ = σ \")\n",
    "    println(\"\\nObjective value: $(round(objective_value(model);digits=2))\")\n",
    "    println(\"μ = $(value(μ))\")\n",
    "    println(\"σ = $(value(σ))\")\n",
    "     \n",
    "end\n",
    "\n",
    "example_mle(1000)"
   ]
  },
  {
   "cell_type": "markdown",
   "metadata": {},
   "source": [
    "#### <span style=\"color:#00B8DE\"> Exercise 4: shape of a chain hang at both ends (catenary)</span>\n",
    "\n",
    "We want to compute the shape of a chain with endpoints $P_1=(0,1)$ and $P_2=(1,1.5)$. We assume the chain has $N\\_links = 10$ linear links, each with length $L\\_links = 2/N\\_links$. Compute the positions of the endpoints of the links and plot them."
   ]
  },
  {
   "cell_type": "code",
   "execution_count": 240,
   "metadata": {},
   "outputs": [
    {
     "name": "stdout",
     "output_type": "stream",
     "text": [
      "\n",
      "Objective value: 16.29\n",
      "x = [-0.0, 0.03, 0.07, 0.11, 0.16, 0.23, 0.3, 0.4, 0.5, 0.59, 0.66, 0.72, 0.77, 0.82, 0.85, 0.88, 0.91, 0.94, 0.96, 0.98, 1.0]\n",
      "y = [1.0, 0.91, 0.81, 0.72, 0.64, 0.56, 0.5, 0.46, 0.46, 0.5, 0.57, 0.65, 0.74, 0.83, 0.92, 1.01, 1.11, 1.21, 1.3, 1.4, 1.5]\n"
     ]
    }
   ],
   "source": [
    "using JuMP\n",
    "\n",
    "N_links = 20          # number of links\n",
    "N_ends  = N_links+1   # number of ends of links\n",
    "L_links = 2/N_links   # length of links\n",
    "\n",
    "\n",
    "model = Model(with_optimizer(Ipopt.Optimizer))\n",
    "\n",
    "@variable(model, x[1:N_ends])\n",
    "@variable(model, y[1:N_ends])\n",
    "@constraint(model, x[1] == 0)\n",
    "@constraint(model, x[N_ends] == 1)\n",
    "@constraint(model, y[1] == 1)\n",
    "@constraint(model, y[N_ends] == 1.5)\n",
    "#@constraint(model, diff(x).^2+diff(y).^2 .==L_links^2)\n",
    "for i in 1:N_links\n",
    "    @NLconstraint(model, (x[i+1]-x[i])^2+(y[i+1]-y[i])^2 == L_links^2)\n",
    "end\n",
    "\n",
    "@NLobjective(model, Min, sum(y[i] for i in 1:N_links))\n",
    "\n",
    "            \n",
    "#print(model)\n",
    "            \n",
    "optimize!(model)\n",
    "            \n",
    "sol_x = round.([JuMP.value(x[k]) for k=1:N_ends];digits=2)\n",
    "sol_y = round.([JuMP.value(y[k]) for k=1:N_ends];digits=2)\n",
    "\n",
    "\n",
    "println(\"\\nObjective value: $(round.(JuMP.objective_value(model);digits=2))\")\n",
    "println(\"x = $(round.([JuMP.value(x[k]) for k=1:N_ends];digits=2))\")\n",
    "println(\"y = $(round.([JuMP.value(y[k]) for k=1:N_ends];digits=2))\")"
   ]
  },
  {
   "cell_type": "code",
   "execution_count": 241,
   "metadata": {},
   "outputs": [
    {
     "data": {
      "image/png": "[encoded data removed]"
     },
     "execution_count": 241,
     "metadata": {},
     "output_type": "execute_result"
    }
   ],
   "source": [
    "using Plots\n",
    "pyplot()\n",
    "plot(sol_x, sol_y)"
   ]
  },
  {
   "cell_type": "markdown",
   "metadata": {},
   "source": [
    "We can see that by increasing N_ends, the solution gets softer"
   ]
  },
  {
   "cell_type": "code",
   "execution_count": null,
   "metadata": {},
   "outputs": [],
   "source": []
  }
 ],
 "metadata": {
  "@webio": {
   "lastCommId": null,
   "lastKernelId": null
  },
  "kernelspec": {
   "display_name": "Julia 1.2.0",
   "language": "julia",
   "name": "julia-1.2"
  },
  "language_info": {
   "file_extension": ".jl",
   "mimetype": "application/julia",
   "name": "julia",
   "version": "1.2.0"
  }
 },
 "nbformat": 4,
 "nbformat_minor": 2
}
